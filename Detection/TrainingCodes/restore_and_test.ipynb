{
 "cells": [
  {
   "cell_type": "code",
   "execution_count": 1,
   "metadata": {},
   "outputs": [
    {
     "name": "stderr",
     "output_type": "stream",
     "text": [
      "C:\\Users\\gxs160730\\AppData\\Local\\Continuum\\anaconda3\\lib\\site-packages\\h5py\\__init__.py:36: FutureWarning: Conversion of the second argument of issubdtype from `float` to `np.floating` is deprecated. In future, it will be treated as `np.float64 == np.dtype(float).type`.\n",
      "  from ._conv import register_converters as _register_converters\n"
     ]
    }
   ],
   "source": [
    "import sklearn\n",
    "import numpy as np\n",
    "from scipy import io\n",
    "import tensorflow as tf\n",
    "import os\n",
    "import time\n",
    "import h5py\n",
    "import matplotlib.pyplot as plt\n",
    "from sklearn.metrics import mean_squared_error\n",
    "from sklearn.metrics import mean_absolute_error\n",
    "import math"
   ]
  },
  {
   "cell_type": "code",
   "execution_count": 2,
   "metadata": {},
   "outputs": [],
   "source": [
    "set_1 = h5py.File(r'C:\\Users\\gxs160730\\Documents\\Ph.D\\Siren_Noise\\siren_features\\M_-5_LPS_features.mat')"
   ]
  },
  {
   "cell_type": "code",
   "execution_count": 3,
   "metadata": {
    "scrolled": true
   },
   "outputs": [],
   "source": [
    "dataset =  np.transpose(set_1['trainData'].value, axes=(1,0))"
   ]
  },
  {
   "cell_type": "code",
   "execution_count": 4,
   "metadata": {},
   "outputs": [],
   "source": [
    "nf           = 1 # number of frame for each image\n",
    "(len_data,b) = (dataset.shape)\n",
    "image_row    = nf*2\n",
    "image_col    = 29"
   ]
  },
  {
   "cell_type": "code",
   "execution_count": 5,
   "metadata": {},
   "outputs": [],
   "source": [
    "inputdim = b-1;\n",
    "x        = dataset[0:1495, 0:inputdim]\n",
    "y        = dataset[0:1495, inputdim].astype(int)"
   ]
  },
  {
   "cell_type": "code",
   "execution_count": 6,
   "metadata": {},
   "outputs": [],
   "source": [
    "len_x   = int(len_data/nf)\n",
    "len_x   = len(x)\n",
    "y1      = y.reshape(len_x,nf)\n",
    "labels1 = y1[:,0]\n",
    "data    = x.reshape(len_x, nf ,inputdim)"
   ]
  },
  {
   "cell_type": "code",
   "execution_count": 7,
   "metadata": {},
   "outputs": [
    {
     "name": "stdout",
     "output_type": "stream",
     "text": [
      "(1495, 1, 257)\n",
      "(1495,)\n"
     ]
    }
   ],
   "source": [
    "print(data.shape)\n",
    "print(labels1.shape)"
   ]
  },
  {
   "cell_type": "markdown",
   "metadata": {},
   "source": [
    "# AK"
   ]
  },
  {
   "cell_type": "code",
   "execution_count": 9,
   "metadata": {},
   "outputs": [
    {
     "name": "stdout",
     "output_type": "stream",
     "text": [
      "INFO:tensorflow:Restoring parameters from C:\\Users\\gxs160730\\Documents\\Ph.D\\Siren_Noise\\Python models\\M_3sns_LPS_no_dropout_TF_1_4\\model19\\model\n"
     ]
    }
   ],
   "source": [
    "import numpy as np\n",
    "sess=tf.Session()   \n",
    "\n",
    "#First let's load meta graph and restore weights\n",
    "saver = tf.train.import_meta_graph(r'C:\\Users\\gxs160730\\Documents\\Ph.D\\Siren_Noise\\Python models\\M_3sns_LPS_no_dropout_TF_1_4\\model19\\model.meta')\n",
    "saver.restore(sess,tf.train.latest_checkpoint(r'C:\\Users\\gxs160730\\Documents\\Ph.D\\Siren_Noise\\Python models\\M_3sns_LPS_no_dropout_TF_1_4\\model19'))\n",
    "\n",
    "graph = tf.get_default_graph()\n",
    "x = graph.get_tensor_by_name (\"x-input:0\")\n",
    "\n",
    "y_true = graph.get_tensor_by_name (\"y-true:0\")\n",
    "\n",
    "Y = graph.get_tensor_by_name(\"output_t:0\")\n",
    "#keep_prob = graph.get_tensor_by_name(\"keep_prob:0\")\n",
    "# cross_entropy = graph.get_tensor_by_name(\"loss:0\")\n",
    "\n",
    "x_batch = data\n",
    "\n",
    "#feed =  {x: x_batch,keep_prob:1.0}\n",
    "feed =  {x: x_batch}\n",
    "\n",
    "prediction  = sess.run([Y], feed_dict=feed)"
   ]
  },
  {
   "cell_type": "code",
   "execution_count": 10,
   "metadata": {},
   "outputs": [],
   "source": [
    "CC = np.array(prediction)"
   ]
  },
  {
   "cell_type": "code",
   "execution_count": 14,
   "metadata": {},
   "outputs": [
    {
     "data": {
      "text/plain": [
       "(1, 1495, 2)"
      ]
     },
     "execution_count": 14,
     "metadata": {},
     "output_type": "execute_result"
    }
   ],
   "source": [
    "CC.shape"
   ]
  },
  {
   "cell_type": "code",
   "execution_count": 15,
   "metadata": {},
   "outputs": [
    {
     "name": "stdout",
     "output_type": "stream",
     "text": [
      "[[[1. 0.]\n",
      "  [1. 0.]\n",
      "  [1. 0.]\n",
      "  ...\n",
      "  [1. 0.]\n",
      "  [1. 0.]\n",
      "  [1. 0.]]]\n"
     ]
    }
   ],
   "source": [
    "print(CC)"
   ]
  },
  {
   "cell_type": "code",
   "execution_count": null,
   "metadata": {},
   "outputs": [],
   "source": [
    "DD = np.argmax(CC,2)\n",
    "print(DD)"
   ]
  },
  {
   "cell_type": "code",
   "execution_count": null,
   "metadata": {},
   "outputs": [],
   "source": [
    "print(labels1)"
   ]
  }
 ],
 "metadata": {
  "kernelspec": {
   "display_name": "Python 3",
   "language": "python",
   "name": "python3"
  },
  "language_info": {
   "codemirror_mode": {
    "name": "ipython",
    "version": 3
   },
   "file_extension": ".py",
   "mimetype": "text/x-python",
   "name": "python",
   "nbconvert_exporter": "python",
   "pygments_lexer": "ipython3",
   "version": "3.7.3"
  }
 },
 "nbformat": 4,
 "nbformat_minor": 2
}
