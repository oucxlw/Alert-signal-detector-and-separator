{
 "cells": [
  {
   "cell_type": "code",
   "execution_count": null,
   "metadata": {},
   "outputs": [],
   "source": [
    "import tensorflow as tf\n",
    "import sklearn\n",
    "import numpy as np\n",
    "from scipy import io\n",
    "import os\n",
    "import time\n",
    "import h5py\n",
    "import matplotlib.pyplot as plt\n",
    "from sklearn.metrics import mean_squared_error\n",
    "from sklearn.metrics import mean_absolute_error\n",
    "import math"
   ]
  },
  {
   "cell_type": "markdown",
   "metadata": {},
   "source": [
    "# DATA"
   ]
  },
  {
   "cell_type": "code",
   "execution_count": null,
   "metadata": {},
   "outputs": [],
   "source": [
    "snr_0  = h5py.File('/home/ssprl2/Documents/Gautam/Features/Traffic/T5_A_10/Sep_T_5_A_10_RI_1_OP.mat')"
   ]
  },
  {
   "cell_type": "code",
   "execution_count": null,
   "metadata": {},
   "outputs": [],
   "source": [
    "data =  np.transpose(snr_0['trainData'].value)\n",
    "print(data.shape)"
   ]
  },
  {
   "cell_type": "code",
   "execution_count": null,
   "metadata": {},
   "outputs": [],
   "source": [
    "input_data_1 = data[:,0:514]\n",
    "print(input_data_1.shape)\n",
    "input_data_2 = data[:,514:1028]\n",
    "print(input_data_2.shape)\n",
    "input_data = np.dstack((input_data_1,input_data_2))\n",
    "input_data = np.reshape(input_data, (2155100,514,2,1))\n",
    "print(input_data.shape)\n",
    "del input_data_1\n",
    "del input_data_2"
   ]
  },
  {
   "cell_type": "code",
   "execution_count": null,
   "metadata": {},
   "outputs": [],
   "source": [
    "Labels = data[:,1028:1542] \n",
    "print(Labels.shape)"
   ]
  },
  {
   "cell_type": "markdown",
   "metadata": {},
   "source": [
    "# PLACEHOLDERS"
   ]
  },
  {
   "cell_type": "code",
   "execution_count": null,
   "metadata": {},
   "outputs": [],
   "source": [
    "x = tf.placeholder(tf.float32,[None, 514, 2],name = \"x-input\")    \n",
    "x_image = tf.reshape(x, [-1, 514, 2, 1], \"x-image\")    \n",
    "y_true = tf.placeholder(tf.float32, [None, 514], name = \"y-input\") \n",
    "from keras.layers import LSTM, Dense, Dropout, Flatten, GRU, Reshape"
   ]
  },
  {
   "cell_type": "markdown",
   "metadata": {},
   "source": [
    "# LAYERS"
   ]
  },
  {
   "cell_type": "code",
   "execution_count": null,
   "metadata": {},
   "outputs": [],
   "source": [
    "model = tf.keras.models.Sequential()\n",
    "model.add(tf.keras.layers.Conv2D(kernel_size = (5,1), \n",
    "           input_shape = (514,2,1), filters = 256, activation='relu',\n",
    "           kernel_initializer= tf.keras.initializers.TruncatedNormal(mean=0.0, stddev=0.05, seed=None),\n",
    "           bias_initializer = tf.keras.initializers.Constant(0.1), strides=(1, 1), padding = 'same' ))\n",
    "\n",
    "model.add(tf.keras.layers.MaxPool2D(pool_size = (3,3),  padding='same'))\n",
    "model.add(tf.keras.layers.Conv2D(kernel_size = (5,1), \n",
    "           filters = 256, activation='relu',\n",
    "           kernel_initializer= tf.keras.initializers.TruncatedNormal(mean=0.0, stddev=0.05, seed=None),\n",
    "           bias_initializer = tf.keras.initializers.Constant(0.1), strides=(1, 1), padding = 'same' ))\n",
    "model.add(tf.keras.layers.Reshape((172,256)))\n",
    "model.add(tf.keras.layers.GRU(100, return_sequences=True,\n",
    "               input_shape=(172, 129)))  # returns a sequence of vectors of dimension 32\n",
    "model.add(tf.keras.layers.GRU(100, return_sequences=True))\n",
    "model.add(tf.keras.layers.GRU(110, return_sequences=True))\n",
    "model.add(tf.keras.layers.Flatten())\n",
    "model.add(tf.keras.layers.Dense(512, activation='relu',\n",
    "                               kernel_initializer= tf.keras.initializers.TruncatedNormal(mean=0.0, stddev=0.05, seed=None),\n",
    "                               bias_initializer = tf.keras.initializers.Constant(0.1) ))\n",
    "model.add(tf.keras.layers.Dropout(0.2))\n",
    "# model.add(tf.keras.layers.Dense(1024, activation='relu',\n",
    "#                                kernel_initializer= tf.keras.initializers.TruncatedNormal(mean=0.0, stddev=0.05, seed=None),\n",
    "#                                bias_initializer = tf.keras.initializers.Constant(0.1) ))\n",
    "model.add(tf.keras.layers.Dense(514,\n",
    "                               kernel_initializer= tf.keras.initializers.TruncatedNormal(mean=0.0, stddev=0.05, seed=None),\n",
    "                               bias_initializer = tf.keras.initializers.Constant(0.1) ))\n",
    "model.summary()"
   ]
  },
  {
   "cell_type": "code",
   "execution_count": null,
   "metadata": {},
   "outputs": [],
   "source": [
    "print(model.input_shape)\n",
    "print(model.output_shape)\n",
    "model.summary()"
   ]
  },
  {
   "cell_type": "code",
   "execution_count": null,
   "metadata": {},
   "outputs": [],
   "source": [
    "model.compile(optimizer=  tf.keras.optimizers.Adam(learning_rate=0.001, beta_1=0.9, beta_2=0.999, amsgrad=False)\n",
    ", loss='mean_squared_error')\n",
    "model.fit(input_data, Labels, epochs=20,batch_size=500)\n",
    "\n",
    "# Save tf.keras model in HDF5 format.\n",
    "keras_file = \"keras_CGRU.h5\"\n",
    "tf.keras.models.save_model(model, keras_file)\n",
    "\n",
    "# # Convert to TensorFlow Lite model.\n",
    "# converter = tf.lite.TFLiteConverter.from_keras_model_file(keras_file)\n",
    "# tflite_model = converter.convert()\n",
    "# open(\"converted_model.tflite\", \"wb\").write(tflite_model)"
   ]
  },
  {
   "cell_type": "markdown",
   "metadata": {},
   "source": [
    "# TRAINING"
   ]
  },
  {
   "cell_type": "code",
   "execution_count": null,
   "metadata": {},
   "outputs": [],
   "source": [
    "checkpoint_dir = \"CRNN/\"\n",
    "tf.gfile.MakeDirs(checkpoint_dir)\n",
    "\n",
    "\n",
    "\n",
    "learningRates = np.hstack((1e-3*np.ones(9),\n",
    "                           1e-4*np.ones(7),\n",
    "                           1e-5*np.ones(5)))\n",
    "\n",
    "num_epochs = len(learningRates)\n",
    "with tf.Session() as sess:\n",
    "    \n",
    "    saver = tf.train.Saver()\n",
    "    #save_relative_paths=True\n",
    "    tf.train.write_graph(sess.graph_def,\n",
    "                         checkpoint_dir,\n",
    "                         \"graph.pbtxt\",\n",
    "                         True)\n",
    "    init = tf.global_variables_initializer()\n",
    "\n",
    "    sess.run(init)\n",
    "    \n",
    "    for epoch in np.arange(num_epochs):\n",
    "        idx = np.arange(len(Labels))\n",
    "        np.random.shuffle(idx)    \n",
    "\n",
    "        #print(\"inside epoch loop = \", epoch)\n",
    "        for i in np.arange(0, nDataSamples-1, trainBatchSize):\n",
    "            \n",
    "            x_batch = input_data[idx[i:i+trainBatchSize],:, :]\n",
    "            y_batch = Labels[idx[i:i+trainBatchSize],:]\n",
    "\n",
    "            feed = {x: x_batch, y_true: y_batch, learning_rate: learningRates[epoch], keep_prob: 0.80}\n",
    "            \n",
    "            sess.run(train_op,feed_dict=feed)\n",
    "\n",
    "            if i%50 == 0:\n",
    "                feed = {x: x_batch,y_true: y_batch, learning_rate: learningRates[epoch], keep_prob: 1.0}\n",
    "                loss_value,prediction  = sess.run([cross_entropy,y_pred], feed_dict=feed)\n",
    "                rmse = mean_squared_error(y_batch[:,0:514], prediction[:,0:514])**0.5\n",
    "                mae = mean_absolute_error(y_batch[:,0:514],prediction[:,0:514])\n",
    "                print(\"epoch: %2d step: %6d RMSE: %3.2f MAE: %3.2f loss: %6.4f\" % \\\n",
    "                     (epoch, i, rmse, mae, loss_value))\n",
    "\n",
    "        tf.gfile.MakeDirs(checkpoint_dir + '/model' + str(epoch))     \n",
    "        checkpoint_file = os.path.join(checkpoint_dir + '/model' + str(epoch), \"model\")\n",
    "        saver.save(sess, checkpoint_file)\n",
    "        print(\"**** SAVED MODEL ****\")      \n",
    "    print(\"**** COMPLETED ALL THE EPOCHS ****\")"
   ]
  },
  {
   "cell_type": "code",
   "execution_count": null,
   "metadata": {},
   "outputs": [],
   "source": []
  }
 ],
 "metadata": {
  "kernelspec": {
   "display_name": "Python 3",
   "language": "python",
   "name": "python3"
  },
  "language_info": {
   "codemirror_mode": {
    "name": "ipython",
    "version": 3
   },
   "file_extension": ".py",
   "mimetype": "text/x-python",
   "name": "python",
   "nbconvert_exporter": "python",
   "pygments_lexer": "ipython3",
   "version": "3.7.3"
  }
 },
 "nbformat": 4,
 "nbformat_minor": 2
}
